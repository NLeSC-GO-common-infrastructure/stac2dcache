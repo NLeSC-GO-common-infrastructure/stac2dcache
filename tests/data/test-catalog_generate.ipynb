{
 "cells": [
  {
   "cell_type": "code",
   "execution_count": 1,
   "metadata": {},
   "outputs": [],
   "source": [
    "import datetime\n",
    "import geopandas\n",
    "import matplotlib.pyplot as plt\n",
    "import numpy as np\n",
    "import pathlib\n",
    "import pystac\n",
    "import rasterio.features\n",
    "import rioxarray as rioxr\n",
    "import shapely.affinity\n",
    "import shapely.geometry\n",
    "import xarray as xr\n",
    "\n",
    "from pystac import Catalog, Item, Asset"
   ]
  },
  {
   "cell_type": "markdown",
   "metadata": {},
   "source": [
    "# Generate test catalog"
   ]
  },
  {
   "cell_type": "code",
   "execution_count": 2,
   "metadata": {},
   "outputs": [],
   "source": [
    "catalog_id = \"test-catalog\""
   ]
  },
  {
   "cell_type": "code",
   "execution_count": 3,
   "metadata": {},
   "outputs": [],
   "source": [
    "# make sub dir for the assets\n",
    "path = pathlib.Path(f\"./{catalog_id}_assets\")\n",
    "path.mkdir(exist_ok=True)"
   ]
  },
  {
   "cell_type": "code",
   "execution_count": 4,
   "metadata": {},
   "outputs": [],
   "source": [
    "# generate the assets\n",
    "dim_size = 100\n",
    "\n",
    "asset_paths = []\n",
    "for offset_x in (0., dim_size):\n",
    "    for offset_y in (0., dim_size):\n",
    "        da = xr.DataArray(\n",
    "            np.random.random((dim_size, dim_size)),\n",
    "            coords={\n",
    "                'x': np.arange(dim_size) + offset_x,\n",
    "                'y': np.arange(dim_size) + offset_y\n",
    "            },\n",
    "            dims=['y', 'x']\n",
    "        )\n",
    "        da = da.rio.set_crs(\"EPSG:28992\")\n",
    "        da = da.rio.set_nodata(np.nan)\n",
    "        polygon = shapely.geometry.Polygon.from_bounds(\n",
    "            offset_x,\n",
    "            offset_y,\n",
    "            offset_x + dim_size,\n",
    "            offset_y + dim_size\n",
    "            )\n",
    "        polygon = shapely.affinity.rotate(polygon, 45)\n",
    "        da = da.rio.clip([polygon])\n",
    "    \n",
    "        asset_num = len(asset_paths) + 1\n",
    "        asset_path = path / f\"tile_{asset_num}.tif\"\n",
    "        da.rio.to_raster(asset_path.as_posix())\n",
    "        asset_paths.append(asset_path)\n"
   ]
  },
  {
   "cell_type": "code",
   "execution_count": 5,
   "metadata": {},
   "outputs": [],
   "source": [
    "# create the catalog\n",
    "catalog = Catalog(\n",
    "    id=catalog_id,\n",
    "    description=\"This is a test catalog\"\n",
    ")"
   ]
  },
  {
   "cell_type": "code",
   "execution_count": 6,
   "metadata": {},
   "outputs": [],
   "source": [
    "# add items\n",
    "for asset_path in asset_paths:\n",
    "    da = rioxr.open_rasterio(asset_path.as_posix()).squeeze()\n",
    "    \n",
    "    asset = Asset(\n",
    "        href=asset_path.as_posix(),  # link to asset\n",
    "        title=asset_path.name,\n",
    "        media_type=pystac.MediaType.GEOTIFF\n",
    "    )\n",
    "    \n",
    "    # get tile bounds in WGS84, which is the standard in the GeoJSON format\n",
    "    bbox = da.rio.transform_bounds(\"WGS84\")\n",
    "    \n",
    "    # determine footprint geometry\n",
    "    mask = da.isnull()\n",
    "\n",
    "    polygons_and_values = rasterio.features.shapes(\n",
    "        mask.astype(\"int16\").values,  # satisfy rasterio type requirements \n",
    "        transform=mask.rio.transform()\n",
    "    )\n",
    "    polygons = (shapely.geometry.shape(pol) for pol, val in polygons_and_values if val == 0.)\n",
    "    polygons = geopandas.GeoSeries(\n",
    "        polygons, \n",
    "        crs=mask.spatial_ref.crs_wkt\n",
    "    )\n",
    "    polygons = polygons.to_crs(\"WGS84\")\n",
    "\n",
    "    geometry = shapely.geometry.mapping(polygons[0])\n",
    "    \n",
    "    # create Item object\n",
    "    item = Item(\n",
    "        id=asset_path.stem,\n",
    "        geometry=geometry,\n",
    "        bbox=bbox,\n",
    "        datetime=datetime.datetime.utcnow(),\n",
    "        properties={}\n",
    "    )\n",
    "\n",
    "    item.add_asset(asset_path.stem, asset)\n",
    "    catalog.add_item(item)"
   ]
  },
  {
   "cell_type": "code",
   "execution_count": 7,
   "metadata": {},
   "outputs": [
    {
     "name": "stdout",
     "output_type": "stream",
     "text": [
      "* <Catalog id=test-catalog>\n",
      "  * <Item id=tile_1>\n",
      "  * <Item id=tile_2>\n",
      "  * <Item id=tile_3>\n",
      "  * <Item id=tile_4>\n"
     ]
    }
   ],
   "source": [
    "catalog.describe()"
   ]
  },
  {
   "cell_type": "code",
   "execution_count": 8,
   "metadata": {},
   "outputs": [],
   "source": [
    "catalog.normalize_and_save(\n",
    "    f\"./{catalog_id}\",\n",
    "    'SELF_CONTAINED'\n",
    ")"
   ]
  }
 ],
 "metadata": {
  "kernelspec": {
   "display_name": "Python 3",
   "language": "python",
   "name": "python3"
  },
  "language_info": {
   "codemirror_mode": {
    "name": "ipython",
    "version": 3
   },
   "file_extension": ".py",
   "mimetype": "text/x-python",
   "name": "python",
   "nbconvert_exporter": "python",
   "pygments_lexer": "ipython3",
   "version": "3.8.5"
  }
 },
 "nbformat": 4,
 "nbformat_minor": 4
}
